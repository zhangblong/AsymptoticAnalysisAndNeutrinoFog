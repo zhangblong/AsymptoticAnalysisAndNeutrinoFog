{
 "cells": [
  {
   "cell_type": "code",
   "execution_count": 1,
   "id": "4c977d07-509b-4220-90f7-9d1937bd095c",
   "metadata": {},
   "outputs": [],
   "source": [
    "import sys, os\n",
    "sys.path.append('../src')\n",
    "import numpy as np\n",
    "from scipy.optimize import differential_evolution\n",
    "from numba import jit\n",
    "import time, multiprocessing, pickle\n",
    "from scipy.integrate import quad\n",
    "\n",
    "from NeutrinoFuncs import BinnedNeutrinoRates, BinnedNeutrinoRates2\n",
    "from WIMPFuncs import BinnedWIMPRate,MeanInverseSpeed_SHM,C_SI, BinnedWIMPRate2\n",
    "from LabFuncs import FormFactorHelm\n",
    "from Params import *\n",
    "#==============================================================================#\n",
    "ne = 50 # number of energy bins (anything >50 is accurate enough)\n",
    "nm = 200 # number of mass points\n",
    "Flux_norm = NuFlux # See Params.py\n",
    "Flux_err = NuUnc # See Params.py\n",
    "E_th = 1.0e-4 # Threshold\n",
    "E_max = 200.0 # Max recoil energy\n",
    "\n",
    "Nuc = Xe131"
   ]
  },
  {
   "cell_type": "code",
   "execution_count": 2,
   "id": "1fb6d9cf-4640-4d27-8079-402b1122bfa0",
   "metadata": {},
   "outputs": [],
   "source": [
    "# To obtain the parameters of parameters for the asymptotic distribution of the test statistic.\n",
    "# Note that we only choose less neutrino sources as inputs to save time, \\\n",
    "#     according to their impacts which can be somehow obtained from \\\n",
    "#     the 2nd component of DLLSRVecPlot.distributionPara's outputs.\n",
    "def matOneHalfGen(mat):\n",
    "    va, ve = np.linalg.eigh(mat)\n",
    "    return [ve@np.diag(1/va)@np.transpose(ve), ve@np.diag(np.sqrt(va))@np.transpose(ve)]\n",
    "\n",
    "def symMatGen(diagTerms, ijTerms):\n",
    "    n = len(diagTerms)\n",
    "    myMat = np.zeros((n,n))\n",
    "    for i in range(0, n-1):\n",
    "        myMat[i, i+1:] = ijTerms[i]\n",
    "        myMat[i+1:, i] = ijTerms[i]\n",
    "    myMat = myMat + np.diag(diagTerms)\n",
    "    return myMat\n",
    "\n",
    "def myMatGen(n, b0, deriAs, deri2As, sigmaTheta, sigmaAs, exposure):\n",
    "    vList = np.sum(b0, axis=0)\n",
    "    vInvList = 1/vList\n",
    "    deriList = np.insert(b0,1,deriAs,axis=0)\n",
    "    deriNuListT = np.transpose(deriList[2:])\n",
    "\n",
    "    sigmaAs2 = sigmaAs*sigmaAs\n",
    "    sigmaTheta2 = sigmaTheta*sigmaTheta\n",
    "\n",
    "    tempVar1 = 0.5*sigmaAs2*deri2As*vInvList\n",
    "    tempVar2 = np.sum(tempVar1*deriAs)\n",
    "    temp = vInvList*(1 + tempVar1)\n",
    "    tempMat = np.zeros((n,n))\n",
    "    tempMat[0:2,0:2] = np.array([[0.,tempVar2],[tempVar2,np.sum(tempVar1*deri2As)]])\n",
    "    ijList = [[np.sum(deriList[i]*deriList[j]*temp) for j in range(i+1,n)] for i in range(0,n-1)]\n",
    "    diagTerms = np.array([np.sum(deriList[i]*deriList[i]*temp) for i in range(0,n)])\n",
    "    lddTemp = symMatGen(diagTerms, ijList)\n",
    "    ldd = lddTemp - tempMat \n",
    "    ldd = exposure*ldd + np.diag(np.append([0.],1/(np.append([sigmaAs], sigmaTheta)**2)))\n",
    "    mu = exposure*np.array([np.sum(tempVar1*deri) for deri in deriList])\n",
    "\n",
    "    nBin = len(vList)\n",
    "    ijTerms = [[np.sum(deriNuListT[i]*deriNuListT[j]*sigmaTheta2) for j in range(i+1,nBin)] for i in range(0,nBin-1)]\n",
    "    diagTerms = [np.sum(deriNuListT[i]*deriNuListT[i]*sigmaTheta2) for i in range(0,nBin)]\n",
    "    varGauTermConst = np.outer(vInvList, vInvList)*(symMatGen(diagTerms, ijTerms) \\\n",
    "                     + (np.outer(deriAs, deriAs))*sigmaAs2- (0.5*sigmaAs2)**2*np.outer(deri2As, deri2As))\n",
    "    varGauTermIJ = [[np.sum(np.outer(deriList[i], deriList[j])*varGauTermConst)\\\n",
    "                             for j in range(i+1,n)] for i in range(0,n-1)]\n",
    "    varGauTermDiag = [np.sum(np.outer(deriList[i], deriList[i])*varGauTermConst)\\\n",
    "                             for i in range(0,n)]\n",
    "    varGauTerm = symMatGen(varGauTermDiag, varGauTermIJ)\n",
    "    varMat = exposure*lddTemp + exposure**2*varGauTerm\n",
    "    \n",
    "    return ldd, varMat, mu\n",
    "\n",
    "class DLLSRVecPlot(object):\n",
    "    \n",
    "    def __init__(self, mDM, E_th, E_max, ne, selList):\n",
    "        nunames, NuUnc, R_nu = BinnedNeutrinoRates2(E_th,E_max,ne,Nuc,Flux_norm)\n",
    "        \n",
    "        self._RNu = R_nu[selList]\n",
    "        self._NuUncs = NuUnc[selList]\n",
    "        iEnd = np.max([len(x[x>1.0e-10]) for x in self._RNu])\n",
    "        self._RNu = self._RNu[:,:iEnd]\n",
    "        self._sData, self._deriAs, self._deri2As = self._deriV0Gen(mDM, E_th,E_max,ne,iEnd)\n",
    "    \n",
    "    def _deriV0Gen(self, mDM, E_th, E_max, ne, iEnd):\n",
    "        dd = 1.0e-4\n",
    "        xList = np.array([-1.,0,1.])*dd + 1.\n",
    "        yList = np.array([BinnedWIMPRate2(E_th,E_max,ne,np.array([mDM]),\\\n",
    "                               Nuc,C_SI,FormFactorHelm,\\\n",
    "                lambda v_min: MeanInverseSpeed_SHM(\\\n",
    "            v_min,sig_v=167.0*x,v_esc=533.0,v_lab=245.6))[1][0][:iEnd] \\\n",
    "                        for x in xList])\n",
    "        deri1List = (yList[2]-yList[0])/(2*dd)\n",
    "        deri2List = (yList[2]+yList[0]-2*yList[1])/(dd*dd)\n",
    "        return yList[1], deri1List, deri2List\n",
    "    \n",
    "    def distributionPara(self, sigmaAs, exposure, sigma0):\n",
    "        b = self._RNu\n",
    "        sigmaTheta = self._NuUncs\n",
    "        n = len(b)+2\n",
    "        b0 = np.append([self._sData*10**(sigma0+45.)], b, axis=0)\n",
    "        deriAs = self._deriAs*10**(sigma0+45.)\n",
    "        deri2As = self._deri2As*10**(sigma0+45.)\n",
    "        \n",
    "        ldd, varMat, mu = myMatGen(n, b0, deriAs, deri2As, sigmaTheta, sigmaAs, exposure)\n",
    "        nk = n - 2\n",
    "        G3 = ldd.copy()[2:,2:]\n",
    "        HMat = np.block([[np.zeros((2,2)), np.zeros((2,nk))],[np.zeros((nk,2)), np.linalg.inv(G3)]])\n",
    "        lddInv, lddOneHalf = matOneHalfGen(ldd)\n",
    "        varMatInv, varMatOneHalf = matOneHalfGen(varMat)\n",
    "        varMatOneHalfInv = np.linalg.inv(varMatOneHalf)\n",
    "        tmat = lddInv - HMat\n",
    "\n",
    "        res1 = varMatOneHalf@(lddInv - HMat)@varMatOneHalf\n",
    "        res2 = np.linalg.eigh(res1)\n",
    "        orderList = np.flip(np.argsort(res2[0]))\n",
    "        res2 = [res2[0][orderList], np.transpose(res2[1])[orderList]]\n",
    "        res3 = varMatOneHalfInv@(mu+ldd@np.append([1.],np.zeros(n-1)))\n",
    "        return [res2[0][0:2], res2[1][0:2], (res2[1][0:2]@res3)**2, res2[0]]\n",
    "    \n",
    "    def _matGen(self, b, sigmaTheta, sigmaAs, exposure, sigma0):\n",
    "        b = self._RNu\n",
    "        sigmaTheta = self._NuUncs\n",
    "        n = len(b)+2\n",
    "        b0 = np.append([self._sData*10**(sigma0+45.)], b, axis=0)\n",
    "        deriAs = self._deriAs*10**(sigma0+45.)\n",
    "        deri2As = self._deri2As*10**(sigma0+45.)\n",
    "        \n",
    "        ldd, varMat, mu = myMatGen(n, b0, deriAs, deri2As, sigmaTheta, sigmaAs, exposure)\n",
    "\n",
    "        nk = n - 2\n",
    "        G3 = ldd.copy()[2:,2:]\n",
    "        HMat = np.block([[np.zeros((2,2)), np.zeros((2,nk))],[np.zeros((nk,2)), np.linalg.inv(G3)]])\n",
    "        lddInv, lddOneHalf = matOneHalfGen(ldd)\n",
    "        varMatInv, varMatOneHalf = matOneHalfGen(varMat)\n",
    "        varMatOneHalfInv = np.linalg.inv(varMatOneHalf)\n",
    "        tmat = lddInv - HMat\n",
    "        \n",
    "        return [tmat, ldd, varMatOneHalfInv, varMat, varMatOneHalfInv@mu]\n",
    "    \n",
    "# To collect the test statistic generated from MC pseudo-experiments\n",
    "@jit(nopython=True)\n",
    "def H0Func(datObs, RNu, nuiList, Uncs, exposure):\n",
    "    temp = nuiList@RNu\n",
    "    return - exposure*np.sum(datObs*(np.log(exposure)+np.log(temp))-temp)+ 0.5*np.sum(((1-nuiList)/Uncs)**2)\n",
    "\n",
    "class MCCheck(object):\n",
    "    \n",
    "    def __init__(self, mDM, E_th, E_max, ne):\n",
    "        self._mDM, self._E_th, self._E_max, self._ne= mDM, E_th,E_max,ne\n",
    "        nunames, self._NuUnc, self._R_nu = BinnedNeutrinoRates2(E_th,E_max,ne,Nuc,Flux_norm)\n",
    "        print('Neutrino sources: ', np.array(nunames))\n",
    "        return None\n",
    "        \n",
    "    def _sigGen(self, x):\n",
    "        return BinnedWIMPRate2(self._E_th, self._E_max, self._ne,np.array([self._mDM]),\\\n",
    "                               Nuc,C_SI,FormFactorHelm,\\\n",
    "                lambda v_min: MeanInverseSpeed_SHM(\\\n",
    "            v_min,sig_v=167.0*x,v_esc=533.0,v_lab=245.6))[1][0]\n",
    "    \n",
    "    def _datGenH0(self, RNu, Uncs, exposure):\n",
    "        for i in range(100):\n",
    "            nuiList = np.array(list(map(lambda d: np.random.normal(loc=1.,scale=d), Uncs)))\n",
    "            if np.all(nuiList>0):\n",
    "                break\n",
    "        dat = nuiList@RNu\n",
    "        return np.array(list(map(lambda d: np.random.poisson(lam=d), dat*exposure)))/exposure\n",
    "    \n",
    "    def _datGenH1(self, RNu, sigma0, Uncs, exposure):\n",
    "        for i in range(100):\n",
    "            nuiList = np.array(list(map(lambda d: np.random.normal(loc=1.,scale=d), Uncs)))\n",
    "            if np.all(nuiList>np.append(np.zeros(len(nuiList)-1),[0.2])) and nuiList[-1]<3.:\n",
    "                break\n",
    "        datDM = self._sigGen(nuiList[-1])[:len(RNu[0])]*10**(sigma0+45.)\n",
    "        dat = nuiList[:-1]@RNu + datDM\n",
    "        return np.array(list(map(lambda d: np.random.poisson(lam=d), dat*exposure)))/exposure\n",
    "    \n",
    "    def _statisticGen(self, datObs, RNu, sigma0, Uncs, exposure):\n",
    "        n = np.shape(Uncs)[0]\n",
    "        H0Gen = lambda x: H0Func(datObs, RNu, x, Uncs[:-1], exposure)\n",
    "        H1Gen = lambda x: self._H1Func(datObs, RNu, sigma0, x[0], x[1:], Uncs, exposure)\n",
    "\n",
    "        boundsH0 = np.transpose([np.zeros(n-1)+1.0e-5, np.ones(n-1)*3.])\n",
    "        boundsH1 = np.transpose([np.append(np.zeros(n)+1.0e-5, [0.2]), \\\n",
    "                                 np.append(np.append(np.array([1.0e2]),np.ones(n-1)*3.),[4.])])\n",
    "        likeDeno = differential_evolution(H1Gen, boundsH1, tol=0, atol=0.01)\n",
    "        likeNume = differential_evolution(H0Gen, boundsH0, tol=0, atol=0.01)\n",
    "        #print(likeDeno,\" \",likeNume,\" \",[datDM])\n",
    "        return [2*(likeNume.fun-likeDeno.fun), likeNume.x, likeDeno.x, datObs] \n",
    "    \n",
    "    def _H1Func(self, datObs, RNu, sigma0, mu, nuiList, Uncs, exposure):\n",
    "        datDM = self._sigGen(nuiList[-1])[:len(datObs)]*10**(sigma0+45.)\n",
    "        temp = nuiList[:-1]@RNu + datDM*mu\n",
    "        return - exposure*np.sum(datObs*(np.log(exposure)+np.log(temp))-temp) + 0.5*np.sum(((1-nuiList)/Uncs)**2)\n",
    "    \n",
    "    def H0StatGen(self, sigma0, exposure, sigmaAs, selList, n):\n",
    "        RNu = self._R_nu[selList]\n",
    "        NuUncs = self._NuUnc[selList]\n",
    "        Uncs = np.append(NuUncs, [sigmaAs])\n",
    "        iEnd = np.max([len(x[x>1.0e-10]) for x in RNu])\n",
    "        RNu = RNu[:,:iEnd]\n",
    "        #datDM = self._sigGen(1.)[:iEnd]*10**(sigma0+45.)\n",
    "        \n",
    "        datObsList = np.array(list(map(lambda i: \\\n",
    "                self._datGenH0(RNu, NuUncs, exposure), range(n))))\n",
    "        time_start = time.perf_counter()\n",
    "        pool = multiprocessing.Pool(4)\n",
    "        multiple_results = [pool.apply_async(\\\n",
    "                self._statisticGen, (datObsList[i], RNu, sigma0, Uncs, exposure))\\\n",
    "                                             for i in range(n)]\n",
    "        pool.close()\n",
    "        pool.join()\n",
    "        H0Stat= [res.get() for res in multiple_results]\n",
    "        #H1Stat = [self._statisticGen(datObsList[i], RNu, sigma0, Uncs, exposure) for i in range(n)]\n",
    "        time_end = time.perf_counter()\n",
    "        print(\"Time costed: {0} s.\".format(time_end-time_start))\n",
    "        return H0Stat\n",
    "    \n",
    "    def H1StatGen(self, sigma0, exposure, sigmaAs, selList, n):\n",
    "        RNu = self._R_nu[selList]\n",
    "        NuUncs = self._NuUnc[selList]\n",
    "        Uncs = np.append(NuUncs, [sigmaAs])\n",
    "        iEnd = np.max([len(x[x>1.0e-10]) for x in RNu])\n",
    "        RNu = RNu[:,:iEnd]\n",
    "        #datDM = self._sigGen(1.)[:iEnd]*10**(sigma0+45.)\n",
    "        \n",
    "        datObsList = np.array(list(map(lambda i: \\\n",
    "                self._datGenH1(RNu, sigma0, Uncs, exposure), range(n))))\n",
    "        time_start = time.perf_counter()\n",
    "        pool = multiprocessing.Pool(4)\n",
    "        multiple_results = [pool.apply_async(\\\n",
    "                self._statisticGen, (datObsList[i], RNu, sigma0, Uncs, exposure))\\\n",
    "                                             for i in range(n)]\n",
    "        pool.close()\n",
    "        pool.join()\n",
    "        H1Stat= [res.get() for res in multiple_results]\n",
    "        #H1Stat = [self._statisticGen(datObsList[i], RNu, sigma0, Uncs, exposure) for i in range(n)]\n",
    "        time_end = time.perf_counter()\n",
    "        print(\"Time costed: {0} s.\".format(time_end-time_start))\n",
    "        return H1Stat\n",
    "\n",
    "# Functions for calculating the type II error\n",
    "def cumFourierFunc(cList, phiList, x):\n",
    "    quadFunc = lambda t: np.imag((1-np.exp(-1j*x*t))*\\\n",
    "        np.exp(-np.sum((cList*t*phiList)/(1j+2*cList*t)))/(np.prod(np.sqrt(1-2j*cList*t))*t))\n",
    "    return (quad(quadFunc, 1.0e-6, 20.)[0])*2/(2*np.pi)"
   ]
  },
  {
   "cell_type": "code",
   "execution_count": 3,
   "id": "b6056090-366a-495f-a948-55006c456268",
   "metadata": {},
   "outputs": [
    {
     "name": "stdout",
     "output_type": "stream",
     "text": [
      "Neutrino sources:  ['pp' 'pep' 'hep' '7Be1' '7Be2' '8B' '13N' '15O' '17F' 'DSNB' 'Atm' 'GeoU'\n",
      " 'GeoTh' 'GeoK' 'Reactor']\n"
     ]
    },
    {
     "data": {
      "text/plain": [
       "[[array([6.92330856, 0.95544706]),\n",
       "  array([[-2.90731168e-02,  8.19070012e-01, -3.21991985e-01,\n",
       "           4.27328122e-01,  3.52050939e-04, -2.00140166e-02,\n",
       "           1.35111470e-01, -3.16032805e-03,  1.84887473e-02,\n",
       "           1.50631348e-01,  3.76129723e-03, -2.38840528e-07,\n",
       "           1.22702856e-06, -9.99693645e-03, -6.62969048e-03,\n",
       "           1.04147393e-02, -5.19449534e-03],\n",
       "         [ 8.12840086e-01,  1.14357694e-02,  2.97291022e-01,\n",
       "           1.36633039e-01,  8.87513016e-04,  5.84783609e-02,\n",
       "           1.89770859e-01, -4.94102485e-03,  4.16912978e-01,\n",
       "           1.21895737e-01,  2.53858916e-03, -1.03864799e-06,\n",
       "           2.66527379e-06, -3.22854708e-02, -2.43488845e-02,\n",
       "           4.62701551e-02, -1.39350420e-02]]),\n",
       "  array([ 0.01512133, 13.87716332]),\n",
       "  array([ 6.92330856e+00,  9.55447056e-01,  2.22590991e-13,  5.46928272e-14,\n",
       "          5.60129004e-16,  3.83160815e-17,  1.11317129e-17,  4.52661284e-18,\n",
       "          2.85518317e-18,  2.09860271e-19, -3.60432827e-18, -5.93781348e-18,\n",
       "         -5.48601475e-17, -8.96365027e-16, -3.78717041e-15, -8.23662098e-15,\n",
       "         -3.02368965e-12])],\n",
       " array([ 1,  0,  7,  4,  3,  6, 13, 11, 12, 14,  8,  5,  2, 10,  9]),\n",
       " array([ 6,  0,  4,  1,  7,  3, 13, 11, 12, 14,  5,  8,  2, 10,  9]),\n",
       " 0.11241664027413599]"
      ]
     },
     "execution_count": 3,
     "metadata": {},
     "output_type": "execute_result"
    }
   ],
   "source": [
    "# np.argsort(np.abs(tempPara[1][0][2:]))[::-1] shows the order of impacts from different neutrino sources\n",
    "Eth = E_th\n",
    "mDM = 0.51\n",
    "sigma0 = -44.16\n",
    "exposure = 1.0e1\n",
    "sigmaAs = 0.212\n",
    "selList = np.linspace(0,14,15,dtype=int)\n",
    "MC51 = MCCheck(mDM, Eth, E_max, ne)\n",
    "LSR51 = DLLSRVecPlot(mDM, Eth, E_max, ne, selList)\n",
    "tempPara=LSR51.distributionPara(sigmaAs, exposure, sigma0)\n",
    "[tempPara,np.argsort(np.abs(tempPara[1][0][2:]))[::-1],\\\n",
    " np.argsort(np.abs(tempPara[1][1][2:]))[::-1],cumFourierFunc(tempPara[0], tempPara[2], 9.)]"
   ]
  },
  {
   "cell_type": "code",
   "execution_count": 4,
   "id": "62f212ed-4695-4ae3-a0b6-95488cdf0598",
   "metadata": {},
   "outputs": [
    {
     "data": {
      "text/plain": [
       "[[array([7.63522434, 0.96644124]),\n",
       "  array([[ 0.01004061, -0.82771789,  0.31818847, -0.42849924, -0.13743189,\n",
       "          -0.02841564, -0.10115239],\n",
       "         [-0.82508639, -0.00724409, -0.29987917, -0.13317487, -0.18115463,\n",
       "          -0.42107454, -0.0373649 ]]),\n",
       "  array([6.45220732e-04, 1.45522086e+01]),\n",
       "  array([ 7.63522434e+00,  9.66441245e-01,  2.89589383e-12,  5.28207928e-14,\n",
       "          5.53115281e-15, -3.77805201e-15, -2.23698692e-14])],\n",
       " 0.09296869149170757]"
      ]
     },
     "execution_count": 4,
     "metadata": {},
     "output_type": "execute_result"
    }
   ],
   "source": [
    "# The 5 neutrino sources we choose are more relevant to the test statistic.\n",
    "# We try to make the type II error closed to 0.1\n",
    "selList51 = np.array([0,1,4,6,7])\n",
    "LSR51 = DLLSRVecPlot(mDM, Eth, E_max, ne, selList51)\n",
    "tempPara=LSR51.distributionPara(sigmaAs, exposure, sigma0)\n",
    "[tempPara,cumFourierFunc(tempPara[0], tempPara[2], 9.)]"
   ]
  },
  {
   "cell_type": "code",
   "execution_count": 5,
   "id": "6dc37c03-9063-4802-8e2b-04cd4ffc5165",
   "metadata": {},
   "outputs": [
    {
     "name": "stdout",
     "output_type": "stream",
     "text": [
      "Neutrino sources:  ['pp' 'pep' 'hep' '7Be1' '7Be2' '8B' '13N' '15O' '17F' 'DSNB' 'Atm' 'GeoU'\n",
      " 'GeoTh' 'GeoK' 'Reactor']\n"
     ]
    },
    {
     "data": {
      "text/plain": [
       "[[array([14.79884174,  2.23706643]),\n",
       "  array([[-3.21936389e-01, -8.84067028e-01,  2.62718871e-03,\n",
       "          -1.08291632e-01,  7.00934665e-04, -5.19411743e-04,\n",
       "           2.72807764e-02, -3.11910105e-01,  1.14597483e-02,\n",
       "          -6.03674737e-02, -1.68181715e-03, -6.89519280e-06,\n",
       "          -3.85450871e-06, -2.62950787e-02, -1.34447943e-02,\n",
       "           1.64650845e-03, -1.90332758e-02],\n",
       "         [ 5.83971986e-01, -2.96263928e-01, -2.48628082e-02,\n",
       "           7.05541828e-01,  6.28915332e-03,  1.76877607e-02,\n",
       "           2.83164821e-02, -4.61045083e-02, -1.70259288e-01,\n",
       "           1.86051941e-01,  5.94277054e-03,  8.08447844e-06,\n",
       "          -4.26168113e-05, -4.46132566e-03,  3.24307531e-02,\n",
       "          -4.56814291e-02, -5.21516707e-02]]),\n",
       "  array([2.92476486, 0.99450045]),\n",
       "  array([ 1.47988417e+01,  2.23706643e+00,  7.36448501e-14,  9.65306226e-15,\n",
       "          2.51666722e-15,  1.78830168e-15,  3.01307733e-16,  3.13341568e-17,\n",
       "          1.86544139e-17,  7.24620298e-18,  3.70930763e-18, -7.32225758e-19,\n",
       "         -2.01560048e-17, -4.32130269e-17, -3.90700594e-15, -2.85737070e-14,\n",
       "         -1.91412102e-13])],\n",
       " array([ 5,  1,  7,  4, 11, 14, 12,  6,  0,  8, 13,  2,  3,  9, 10]),\n",
       " array([ 1,  7,  6, 14,  5, 13, 12,  4,  0,  3,  2,  8, 11, 10,  9]),\n",
       " 0.11391359431855677]"
      ]
     },
     "execution_count": 5,
     "metadata": {},
     "output_type": "execute_result"
    }
   ],
   "source": [
    "Eth = E_th\n",
    "mDM = 1.\n",
    "sigma0 = -44.72\n",
    "exposure = 1.0e1\n",
    "sigmaAs = 0.212\n",
    "selList = np.linspace(0,14,15,dtype=int)\n",
    "MC1 = MCCheck(mDM, Eth, E_max, ne)\n",
    "LSR1 = DLLSRVecPlot(mDM, Eth, E_max, ne, selList)\n",
    "tempPara=LSR1.distributionPara(sigmaAs, exposure, sigma0)\n",
    "[tempPara,np.argsort(np.abs(tempPara[1][0][2:]))[::-1],\\\n",
    " np.argsort(np.abs(tempPara[1][1][2:]))[::-1],cumFourierFunc(tempPara[0], tempPara[2], 9.)]"
   ]
  },
  {
   "cell_type": "code",
   "execution_count": 6,
   "id": "c98ab928-3b26-4608-a2ad-3af421dcb90f",
   "metadata": {},
   "outputs": [
    {
     "data": {
      "text/plain": [
       "[[array([16.15118488,  2.32622068]),\n",
       "  array([[-3.08369896e-01, -8.89803978e-01, -4.40630660e-02,\n",
       "          -3.19354175e-01,  9.37685111e-02,  2.08737335e-02],\n",
       "         [ 5.86468823e-01, -2.56834256e-01,  7.12057597e-01,\n",
       "          -3.30354475e-02, -2.86309037e-01, -5.08178557e-04]]),\n",
       "  array([2.92159169, 1.16135788]),\n",
       "  array([ 1.61511849e+01,  2.32622068e+00,  9.91770409e-14,  2.56536635e-14,\n",
       "         -1.05322813e-14, -5.45080337e-13])],\n",
       " 0.10275074055250874]"
      ]
     },
     "execution_count": 6,
     "metadata": {},
     "output_type": "execute_result"
    }
   ],
   "source": [
    "selList1 = np.array([1,5,6,7])\n",
    "LSR1 = DLLSRVecPlot(mDM, Eth, E_max, ne, selList1)\n",
    "tempPara=LSR1.distributionPara(sigmaAs, exposure, sigma0)\n",
    "[tempPara,cumFourierFunc(tempPara[0], tempPara[2], 9.)]"
   ]
  },
  {
   "cell_type": "code",
   "execution_count": 7,
   "id": "d0bade36-f740-48fd-851d-a42007880587",
   "metadata": {},
   "outputs": [
    {
     "name": "stdout",
     "output_type": "stream",
     "text": [
      "Neutrino sources:  ['pp' 'pep' 'hep' '7Be1' '7Be2' '8B' '13N' '15O' '17F' 'DSNB' 'Atm' 'GeoU'\n",
      " 'GeoTh' 'GeoK' 'Reactor']\n"
     ]
    },
    {
     "data": {
      "text/plain": [
       "[[array([3.04934238, 0.99377098]),\n",
       "  array([[-4.06579539e-02, -9.08178852e-01, -2.28640257e-04,\n",
       "           2.50789473e-02, -1.98138256e-02,  1.38611760e-04,\n",
       "          -1.93806702e-03, -4.13757884e-01, -4.27664353e-03,\n",
       "           2.05004832e-02,  5.77591842e-04,  3.72158765e-05,\n",
       "           1.57376376e-04,  1.51649988e-02,  5.88387921e-03,\n",
       "          -6.80951350e-04,  2.51628293e-02],\n",
       "         [ 1.51622183e-01, -4.16319905e-01, -2.23838662e-04,\n",
       "          -2.18339604e-02, -2.01972453e-02, -3.88723176e-04,\n",
       "           9.70790425e-04,  8.95081556e-01,  3.44492175e-03,\n",
       "          -1.39768276e-02, -3.96638153e-04, -4.08621798e-05,\n",
       "          -3.82332246e-04, -1.87803405e-02, -6.38625377e-03,\n",
       "           3.88248632e-04, -3.21014714e-02]]),\n",
       "  array([ 0.41641323, 14.95377502]),\n",
       "  array([ 3.04934238e+00,  9.93770984e-01,  1.78449677e-13,  1.38287895e-14,\n",
       "          9.15055935e-15,  7.47267670e-16,  3.77125502e-16,  2.39728197e-17,\n",
       "          2.31254351e-18,  4.18614112e-21,  6.58241288e-22, -2.49087845e-20,\n",
       "         -2.11573869e-19, -1.06530209e-17, -2.21238822e-17, -5.23410188e-17,\n",
       "         -1.24717202e-15])],\n",
       " array([ 5, 14,  1,  7,  2, 11, 12,  6,  4, 13,  8,  0, 10,  3,  9]),\n",
       " array([ 5, 14,  1,  2, 11,  7, 12,  6,  4,  8,  3, 13, 10,  0,  9]),\n",
       " 0.10020919092999411]"
      ]
     },
     "execution_count": 7,
     "metadata": {},
     "output_type": "execute_result"
    }
   ],
   "source": [
    "Eth = E_th\n",
    "mDM = 5.5\n",
    "sigma0 = -45.38\n",
    "exposure = 1.0e1\n",
    "sigmaAs = 0.212\n",
    "selList = np.linspace(0,14,15,dtype=int)\n",
    "MC55 = MCCheck(mDM, Eth, E_max, ne)\n",
    "LSR55 = DLLSRVecPlot(mDM, Eth, E_max, ne, selList)\n",
    "tempPara=LSR55.distributionPara(sigmaAs, exposure, sigma0)\n",
    "[tempPara,np.argsort(np.abs(tempPara[1][0][2:]))[::-1],\\\n",
    " np.argsort(np.abs(tempPara[1][1][2:]))[::-1],cumFourierFunc(tempPara[0], tempPara[2], 9.)]"
   ]
  },
  {
   "cell_type": "code",
   "execution_count": 8,
   "id": "e80e7f87-d94a-41bc-95aa-1fab5ceed6dc",
   "metadata": {},
   "outputs": [
    {
     "data": {
      "text/plain": [
       "[[array([3.05964906, 0.99405606]),\n",
       "  array([[-0.04124606, -0.90944177,  0.02638212, -0.01930796, -0.41151561,\n",
       "          -0.01046782,  0.02628588],\n",
       "         [ 0.15578322, -0.41309865, -0.01075851, -0.02014554,  0.89600606,\n",
       "          -0.02380515, -0.03414631]]),\n",
       "  array([ 0.40670476, 14.98977802]),\n",
       "  array([ 3.05964906e+00,  9.94056063e-01,  5.74823481e-16,  1.76954248e-17,\n",
       "         -7.16447943e-17, -3.10481691e-15, -2.16337093e-14])],\n",
       " 0.099623380088401]"
      ]
     },
     "execution_count": 8,
     "metadata": {},
     "output_type": "execute_result"
    }
   ],
   "source": [
    "selList55 = np.array([1,2,5,7,14])\n",
    "LSR55 = DLLSRVecPlot(mDM, Eth, E_max, ne, selList55)\n",
    "tempPara=LSR55.distributionPara(sigmaAs, exposure, sigma0)\n",
    "[tempPara,cumFourierFunc(tempPara[0], tempPara[2], 9.)]"
   ]
  },
  {
   "cell_type": "code",
   "execution_count": 9,
   "id": "24a9833d-0d49-4e3b-8ad4-eda6e4ad3f2c",
   "metadata": {},
   "outputs": [
    {
     "name": "stdout",
     "output_type": "stream",
     "text": [
      "Neutrino sources:  ['hep' '8B' 'DSNB' 'Atm']\n"
     ]
    },
    {
     "data": {
      "text/plain": [
       "[[array([70.5712259 ,  0.18650668]),\n",
       "  array([[-2.50754567e-01, -9.67629377e-01, -1.74420149e-02,\n",
       "           9.89354106e-06, -4.73059558e-03,  2.21118227e-02],\n",
       "         [-8.54005412e-01,  2.27369695e-01, -4.55867392e-01,\n",
       "           4.23063352e-05,  6.95654081e-02, -7.95195025e-02]]),\n",
       "  array([ 1.57660749, 19.82256879]),\n",
       "  array([ 7.05712259e+01,  1.86506677e-01,  2.09724643e-14,  3.66549284e-15,\n",
       "          2.96406560e-21, -4.73219657e-15])],\n",
       " array([3, 0, 2, 1]),\n",
       " array([0, 3, 2, 1]),\n",
       " 0.09659289804861737]"
      ]
     },
     "execution_count": 9,
     "metadata": {},
     "output_type": "execute_result"
    }
   ],
   "source": [
    "Eth = 4.\n",
    "mDM = 10.\n",
    "sigma0 = -47.6\n",
    "exposure = 1.0e4\n",
    "sigmaAs = 0.212\n",
    "selList10 = np.array([0,1,2,3])\n",
    "MC10 = MCCheck(mDM, Eth, E_max, ne)\n",
    "LSR10 = DLLSRVecPlot(mDM, Eth, E_max, ne, selList10)\n",
    "tempPara=LSR10.distributionPara(sigmaAs, exposure, sigma0)\n",
    "[tempPara,np.argsort(np.abs(tempPara[1][0][2:]))[::-1],\\\n",
    " np.argsort(np.abs(tempPara[1][1][2:]))[::-1],cumFourierFunc(tempPara[0], tempPara[2], 9.)]"
   ]
  },
  {
   "cell_type": "code",
   "execution_count": 10,
   "id": "c2b8dd12-24c5-4614-8063-784256b80857",
   "metadata": {},
   "outputs": [
    {
     "name": "stdout",
     "output_type": "stream",
     "text": [
      "Neutrino sources:  ['hep' '8B' 'DSNB' 'Atm']\n"
     ]
    },
    {
     "data": {
      "text/plain": [
       "[[array([1.12368922, 0.23803762]),\n",
       "  array([[-8.33499832e-01,  4.46762663e-01,  2.22108565e-02,\n",
       "          -1.35031436e-05,  1.35827199e-03, -3.24323890e-01],\n",
       "         [ 2.62581187e-01,  8.32962795e-01, -3.53513261e-02,\n",
       "          -3.36383571e-05, -1.24076342e-01,  4.69658862e-01]]),\n",
       "  array([16.26233254,  0.90721897]),\n",
       "  array([ 1.12368922e+00,  2.38037623e-01,  4.22842315e-16,  2.53394954e-23,\n",
       "         -1.44842161e-15, -2.09702347e-14])],\n",
       " array([3, 0, 2, 1]),\n",
       " array([3, 2, 0, 1]),\n",
       " 0.10185072389483968]"
      ]
     },
     "execution_count": 10,
     "metadata": {},
     "output_type": "execute_result"
    }
   ],
   "source": [
    "Eth = 4.\n",
    "mDM = 100.\n",
    "sigma0 = -48.6\n",
    "exposure = 1.0e4\n",
    "sigmaAs = 0.212\n",
    "selList100 = np.array([0,1,2,3])\n",
    "MC100 = MCCheck(mDM, Eth, E_max, ne)\n",
    "LSR100 = DLLSRVecPlot(mDM, Eth, E_max, ne, selList100)\n",
    "tempPara=LSR100.distributionPara(sigmaAs, exposure, sigma0)\n",
    "[tempPara,np.argsort(np.abs(tempPara[1][0][2:]))[::-1],\\\n",
    " np.argsort(np.abs(tempPara[1][1][2:]))[::-1],cumFourierFunc(tempPara[0], tempPara[2], 9.)]"
   ]
  },
  {
   "cell_type": "code",
   "execution_count": 11,
   "id": "45d8393f-b144-4793-9040-50b01ee91990",
   "metadata": {},
   "outputs": [],
   "source": [
    "labelList = [51,1,55,10,100]\n",
    "selList = [eval('selList'+str(i)) for i in labelList]\n",
    "MCList = [eval('MC'+str(i)) for i in labelList]\n",
    "sigma0List = [-44.16,-44.72,-45.38,-47.6,-48.6]\n",
    "exposureList = [10.,10.,10.,1e4,1e4]"
   ]
  },
  {
   "cell_type": "code",
   "execution_count": 12,
   "id": "bd8dbf46-23ae-497c-b798-842f2ac9a0e1",
   "metadata": {},
   "outputs": [
    {
     "name": "stdout",
     "output_type": "stream",
     "text": [
      "Time costed: 18730.815479147015 s.\n",
      "Time costed: 13211.849110741983 s.\n",
      "Time costed: 12692.211118937004 s.\n",
      "Time costed: 11973.298958687985 s.\n",
      "Time costed: 9006.441803958965 s.\n"
     ]
    }
   ],
   "source": [
    "H1DatList = [MCList[i].H1StatGen(sigma0List[i], exposureList[i], sigmaAs,\\\n",
    "                        selList[i], 10000) for i in range(len(MCList))]"
   ]
  },
  {
   "cell_type": "code",
   "execution_count": 13,
   "id": "80506349-098f-4b78-852b-7791119317a5",
   "metadata": {},
   "outputs": [],
   "source": [
    "mypath = os.path.join(os.path.abspath(os.path.pardir),'data', 'MC')\n",
    "myData = H1DatList\n",
    "myFile = open(os.path.join(mypath,'MCLSRH1.pickle'), 'wb')\n",
    "pickle.dump(myData, myFile)\n",
    "myFile.close()"
   ]
  },
  {
   "cell_type": "code",
   "execution_count": 14,
   "id": "efa57273-dbf8-4f18-a9f1-1601467e3637",
   "metadata": {},
   "outputs": [
    {
     "name": "stdout",
     "output_type": "stream",
     "text": [
      "Time costed: 1485.2681365910103 s.\n"
     ]
    }
   ],
   "source": [
    "i=2\n",
    "H0Dat55 = MCList[i].H0StatGen(sigma0List[i], exposureList[i], sigmaAs,\\\n",
    "                        selList[i], 1000)"
   ]
  },
  {
   "cell_type": "code",
   "execution_count": 15,
   "id": "ebb98a85-aa7d-4484-bc22-9b044fe0f0bb",
   "metadata": {},
   "outputs": [],
   "source": [
    "from scipy.stats import ncx2\n",
    "import matplotlib.pyplot as plt\n",
    "\n",
    "def H0StatPlot(H0Stat, xmax):\n",
    "    dmax=500.\n",
    "    H0Stat = np.array(list(map(lambda x: 1.0e-6 if x<0. else x, H0Stat)))\n",
    "    H0StatX = np.linspace(0.,dmax,1000)\n",
    "    DatX = np.array(list(map(lambda x: [x,x], H0StatX[1:-1]))).flatten()\n",
    "    DatX = np.append([H0StatX[0]], np.append(DatX, [H0StatX[-1]]))\n",
    "    H0StatY = np.histogram(H0Stat, bins=H0StatX)[0]\n",
    "    H0StatY = 1/(np.sum(H0StatY)*(H0StatX[1]-H0StatX[0]))*H0StatY\n",
    "    DatY = np.array(list(map(lambda x: [x,x], H0StatY))).flatten()\n",
    "    \n",
    "    fig, ax = plt.subplots()\n",
    "    x = np.linspace(1.0e-6,xmax,1000)\n",
    "    y = 0.5*ncx2.pdf(x,df=1,nc=0)\n",
    "    ax.plot(x, y, color='black', linestyle='-', label='Distribution')\n",
    "    ax.plot(DatX, DatY, color='Red', linestyle='-.', label='Data')\n",
    "    ax.legend()\n",
    "    ax.set(xlim=(-0.5,xmax), ylim=(1e-4,1e1))\n",
    "    plt.yscale('log')\n",
    "    plt.show()"
   ]
  },
  {
   "cell_type": "code",
   "execution_count": 16,
   "id": "025a1dce-c77f-4012-9c60-91ef76ba00fd",
   "metadata": {},
   "outputs": [
    {
     "data": {
      "image/png": "[encoded data removed]",
      "text/plain": [
       "<Figure size 432x288 with 1 Axes>"
      ]
     },
     "metadata": {
      "needs_background": "light"
     },
     "output_type": "display_data"
    }
   ],
   "source": [
    "H0StatPlot(np.array([d[0] for d in H0Dat55]), 10.)"
   ]
  },
  {
   "cell_type": "code",
   "execution_count": null,
   "id": "3f2cd5de-cd0f-4fd0-88ba-8f28e4cad9b3",
   "metadata": {},
   "outputs": [],
   "source": []
  }
 ],
 "metadata": {
  "kernelspec": {
   "display_name": "Python 3 (ipykernel)",
   "language": "python",
   "name": "python3"
  },
  "language_info": {
   "codemirror_mode": {
    "name": "ipython",
    "version": 3
   },
   "file_extension": ".py",
   "mimetype": "text/x-python",
   "name": "python",
   "nbconvert_exporter": "python",
   "pygments_lexer": "ipython3",
   "version": "3.9.7"
  }
 },
 "nbformat": 4,
 "nbformat_minor": 5
}
