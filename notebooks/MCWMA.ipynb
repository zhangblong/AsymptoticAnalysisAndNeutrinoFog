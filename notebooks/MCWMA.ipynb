{
 "cells": [
  {
   "cell_type": "code",
   "execution_count": 1,
   "id": "00093e3a-0763-436d-8f21-662cd4b8b000",
   "metadata": {},
   "outputs": [],
   "source": [
    "import sys, os\n",
    "sys.path.append('../src')\n",
    "import numpy as np\n",
    "from scipy.optimize import differential_evolution\n",
    "from numba import jit\n",
    "import time, multiprocessing, pickle\n",
    "from scipy.integrate import quad\n",
    "from NeutrinoFogFuncs import phiGen3\n",
    "\n",
    "from NeutrinoFuncs import BinnedNeutrinoRates, BinnedNeutrinoRates2\n",
    "from WIMPFuncs import BinnedWIMPRate,MeanInverseSpeed_SHM,C_SI, BinnedWIMPRate2\n",
    "from LabFuncs import FormFactorHelm\n",
    "from Params import *\n",
    "#==============================================================================#\n",
    "ne = 50 # number of energy bins (anything >50 is accurate enough)\n",
    "nm = 200 # number of mass points\n",
    "Flux_norm = NuFlux # See Params.py\n",
    "Flux_err = NuUnc # See Params.py\n",
    "E_th = 1.0e-4 # Threshold\n",
    "E_max = 200.0 # Max recoil energy\n",
    "\n",
    "Nuc = Xe131"
   ]
  },
  {
   "cell_type": "code",
   "execution_count": 2,
   "id": "9f989c4b-958c-41f3-831b-7a5ee08d5a60",
   "metadata": {},
   "outputs": [],
   "source": [
    "def matOneHalfGen(mat):\n",
    "    va, ve = np.linalg.eigh(mat)\n",
    "    if np.any(va<0.):\n",
    "        return [1.]\n",
    "    return [ve@np.diag(1/va)@np.transpose(ve), ve@np.diag(np.sqrt(va))@np.transpose(ve)]\n",
    "\n",
    "def symMatGen(diagTerms, ijTerms):\n",
    "    n = len(diagTerms)\n",
    "    myMat = np.zeros((n,n))\n",
    "    for i in range(0, n-1):\n",
    "        myMat[i, i+1:] = ijTerms[i]\n",
    "        myMat[i+1:, i] = ijTerms[i]\n",
    "    myMat = myMat + np.diag(diagTerms)\n",
    "    return myMat\n",
    "    \n",
    "def myMatGen(thetaPrime, s, b, deriWA, deri2WA, sigmaTheta, sigmaWA):\n",
    "    n = len(b) + 2\n",
    "    \n",
    "    deriWATotal = np.sum(deriWA,axis=0)\n",
    "    vList = thetaPrime[0]*s + np.sum(b, axis=0)\n",
    "    vInvList = 1/vList\n",
    "    deriList = np.vstack((s,b,deriWATotal))\n",
    "    deriNuListT = np.transpose(deriList[1:])\n",
    "    \n",
    "    sigmaWA2 = sigmaWA*sigmaWA\n",
    "    sigmaTheta2 = np.append(sigmaTheta,[sigmaWA])**2\n",
    "\n",
    "    tempVar1 = 0.5*sigmaWA2*deri2WA*vInvList\n",
    "    tempVar2 = np.array([tempVar1@deriWA[i] for i in range(len(deriWA))])\n",
    "    temp = vInvList*(1 + tempVar1)\n",
    "    tempMat = np.zeros((n,n))\n",
    "    tempMat[-1,-1] = tempVar1@deri2WA\n",
    "    tempMat[-1,1:-1] = tempVar2\n",
    "    tempMat[1:-1,-1] = tempVar2\n",
    "    ijList = [[np.sum(deriList[i]*deriList[j]*temp) for j in range(i+1,n)] for i in range(0,n-1)]\n",
    "    diagTerms = np.array([np.sum(deriList[i]*deriList[i]*temp) for i in range(0,n)])\n",
    "    lddTemp = symMatGen(diagTerms, ijList)\n",
    "    lddTempDiag = np.append([0.],1/(sigmaTheta2))\n",
    "    muTemp = np.array([np.sum(tempVar1*deri) for deri in deriList])\n",
    "\n",
    "    nBin = len(vList)\n",
    "    ijTerms = [[np.sum(deriNuListT[i]*deriNuListT[j]*sigmaTheta2) for j in range(i+1,nBin)] for i in range(0,nBin-1)]\n",
    "    diagTerms = [np.sum(deriNuListT[i]*deriNuListT[i]*sigmaTheta2) for i in range(0,nBin)]\n",
    "    varGauTermConst = np.outer(vInvList, vInvList)*(symMatGen(diagTerms, ijTerms) \\\n",
    "                     - (0.5*sigmaWA2)**2*np.outer(deri2WA, deri2WA))\n",
    "    \n",
    "    n = len(b) + 1\n",
    "    deriList = np.vstack((s,b))\n",
    "    varGauTermIJ = [[np.sum(np.outer(deriList[i], deriList[j])*varGauTermConst)\\\n",
    "                             for j in range(i+1,n)] for i in range(0,n-1)]\n",
    "    varGauTermDiag = [np.sum(np.outer(deriList[i], deriList[i])*varGauTermConst)\\\n",
    "                             for i in range(0,n)]\n",
    "    varGauTerm = symMatGen(varGauTermDiag, varGauTermIJ)\n",
    "    \n",
    "    return [lddTemp, tempMat, varGauTerm, lddTempDiag, muTemp]\n",
    "\n",
    "class WMA(object):\n",
    "    \n",
    "    def __init__(self, E_th, E_max, ne, selList=[]):\n",
    "        nunames, NuUnc, RNuSM = BinnedNeutrinoRates2(E_th,E_max,ne,Nuc,Flux_norm)\n",
    "        if len(selList) == 0:\n",
    "            selList = np.linspace(0,len(NuUnc)-1,len(NuUnc),dtype=int)\n",
    "        else:\n",
    "            self._selList = selList\n",
    "        RNuSM = RNuSM[selList]\n",
    "        iEnd = np.max([len(x[x>1.0e-10]) for x in RNuSM])\n",
    "        self._RNuSM, self._NuUnc = RNuSM[:,:iEnd], NuUnc[selList]\n",
    "        # derivation of weak-mixing angle\n",
    "        N = Nuc.NumberOfNeutrons\n",
    "        Z = Nuc.NumberOfProtons\n",
    "        sinTheta_Wsq = 0.2387\n",
    "        Q_W = 1.0*N-(1-4.0*sinTheta_Wsq)*Z # weak nuclear hypercharge\n",
    "        self._RNuSMDeri1 = 8*sinTheta_Wsq*Z/Q_W*self._RNuSM\n",
    "        self._RNuSMDeri2 = 32*(sinTheta_Wsq*Z/Q_W)**2*np.sum(self._RNuSM,axis=0)\n",
    "        self._deriFactor = 8*sinTheta_Wsq*Z/Q_W\n",
    "        \n",
    "        self._temp = [E_th, E_max, ne, Nuc, C_SI, iEnd]\n",
    "        return None\n",
    "    \n",
    "    def _sGen(self, mDM):\n",
    "        E_th, E_max, ne, Nuc, C_SI, iEnd = self._temp\n",
    "        dd = 1.0e-4\n",
    "        xList = np.array([-1.,0,1.])*dd + 1.\n",
    "        m = np.array([mDM])\n",
    "        y = BinnedWIMPRate2(E_th, E_max, ne,m,Nuc,C_SI,FormFactorHelm,\\\n",
    "                                      lambda v_min: MeanInverseSpeed_SHM(v_min,sig_v=167.0*1,v_esc=533.0,v_lab=245.6))[1][0][:iEnd]\n",
    "        return y\n",
    "    \n",
    "    def setDMMass(self, mDM):\n",
    "        self._RWIMP = self._sGen(mDM)\n",
    "        return \n",
    "        \n",
    "    def tempMatSet(self, sigma0, sigmaWA):\n",
    "        thetaPrime = np.array([1.])\n",
    "        RNuSM, NuUncs = self._RNuSM, self._NuUnc\n",
    "        RWIMP = self._RWIMP*10**(sigma0+45.)\n",
    "        deriWA, deri2WA = self._RNuSMDeri1, self._RNuSMDeri2\n",
    "        \n",
    "        s, b, sigmaTheta = RWIMP, RNuSM, NuUncs\n",
    "        #lddTemp, varGauTerm = myMatGen(thetaPrime, s1, s2, b, sigmaTheta)\n",
    "        self._tempMat = myMatGen(thetaPrime, s, b, deriWA, deri2WA, sigmaTheta, sigmaWA)\n",
    "        return \n",
    "    \n",
    "    def distributionPara(self, exposure):\n",
    "        lddTemp, tempMat, varGauTerm, lddTempDiag, muTemp = self._tempMat\n",
    "        ldd = exposure*(lddTemp-tempMat) + np.diag(lddTempDiag)\n",
    "        mu = exposure*muTemp\n",
    "        varMat = exposure*lddTemp[:-1,:-1] + exposure**2*varGauTerm\n",
    "        n = len(mu)\n",
    "        nk = n - 1\n",
    "        G3 = ldd.copy()[1:,1:]\n",
    "        HMat = np.block([[np.zeros((1,1)), np.zeros((1,nk))],[np.zeros((nk,1)), np.linalg.inv(G3)]])\n",
    "        \n",
    "        temp = matOneHalfGen(ldd)\n",
    "        if len(temp)==1:\n",
    "            return [1]\n",
    "        lddInv, lddOneHalf = temp\n",
    "        \n",
    "        temp = matOneHalfGen(varMat)\n",
    "        if len(temp)==1:\n",
    "            return [2]\n",
    "        varMatInv, varMatOneHalf = temp\n",
    "        varMatOneHalfInv = np.linalg.inv(varMatOneHalf)\n",
    "        \n",
    "        tranMat = np.vstack((np.eye(nk), np.append([0.],self._deriFactor*np.ones(nk-1))))\n",
    "        #print(tranMat)\n",
    "        tMat = np.transpose(tranMat)@(lddInv - HMat)@tranMat\n",
    "        ldd = ldd[:-1,:-1]\n",
    "        mu = mu[:-1]\n",
    "        delta = np.append([1.],np.zeros(nk-1))\n",
    "        \n",
    "        #tmat = lddInv - HMat\n",
    "        res1 = varMatOneHalf@tMat@varMatOneHalf\n",
    "        res2 = np.linalg.eigh(res1)\n",
    "        orderList = np.flip(np.argsort(res2[0]))\n",
    "        res2 = [res2[0][orderList], np.transpose(res2[1])[orderList]]\n",
    "        res3 = varMatOneHalfInv@(mu+ldd@delta)\n",
    "        #print('1: ', res2[0][:5])\n",
    "        return [res2[0][0:2], res2[1][0:2], (res2[1][0:2]@res3)**2, res2[0]]\n",
    "    \n",
    "    def phiAsiGen(self,sigmaWA,sigma0,exposure):\n",
    "        lddTemp, tempMat, varGauTerm, lddTempDiag, muTemp = self._tempMat\n",
    "        ldd = exposure*(lddTemp-tempMat) + np.diag(lddTempDiag)\n",
    "        mu = exposure*muTemp\n",
    "        #varMat = exposure*lddTemp[:-1,:-1] + exposure**2*varGauTerm\n",
    "        n = len(mu)\n",
    "        nk = n - 1\n",
    "        G3 = ldd.copy()[1:,1:]\n",
    "        HMat = np.block([[np.zeros((1,1)), np.zeros((1,nk))],[np.zeros((nk,1)), np.linalg.inv(G3)]])\n",
    "        \n",
    "        s, b, sigmaTheta = self._RWIMP*10**(sigma0+45.), self._RNuSM, self._NuUnc\n",
    "        sigmaTheta = np.append(sigmaTheta,[sigmaWA])\n",
    "        niuList = (-(np.append([1.],np.zeros(n-1)) - HMat@ldd@np.append([1.],np.zeros(n-1))))[1:] + 1.\n",
    "        #print((-(np.append([1.],np.zeros(n-1)) - HMat@ldd@np.append([1.],np.zeros(n-1)))) + 1.)\n",
    "        datObs = s + np.sum(b,axis=0)\n",
    "        temp = niuList[:-1]@b*RNuFactorGen(niuList[-1])\n",
    "        phi = 2*(-exposure*np.sum(datObs*(np.log(temp)-np.log(datObs))-(temp-datObs))+ 0.5*np.sum(((1-niuList)/sigmaTheta)**2))\n",
    "        return phi\n",
    "    \n",
    "    def H1Func(self, datObs, nuiList, sigmaWA, exposure, sigma0):\n",
    "        thetaPrime = np.array([1.])\n",
    "        RNuSM, NuUncs = self._RNuSM, self._NuUnc\n",
    "        RWIMP = self._RWIMP*10**(sigma0+45.)\n",
    "        Uncs = np.append(NuUncs,[sigmaWA])\n",
    "        RNuSM = np.transpose(np.ascontiguousarray(np.transpose(RNuSM)))\n",
    "        return H1Func(datObs, RNuSM, RWIMP, nuiList[0], nuiList[1:], Uncs, exposure)\n",
    "    \n",
    "# To collect the test statistic generated from MC pseudo-experiments\n",
    "@jit(nopython=True)\n",
    "def H0Func(datObs, RNu, nuiList, Uncs, exposure):\n",
    "    temp = nuiList[:-1]@RNu*RNuFactorGen(nuiList[-1])\n",
    "    return - exposure*np.sum(datObs*(np.log(exposure)+np.log(temp))-temp)+ 0.5*np.sum(((1-nuiList)/Uncs)**2)\n",
    "\n",
    "@jit(nopython=True)\n",
    "def H1Func(datObs, RNu, RWIMP, mu, nuiList, Uncs, exposure):\n",
    "    temp = nuiList[:-1]@RNu*RNuFactorGen(nuiList[-1]) + RWIMP*mu\n",
    "    return - exposure*np.sum(datObs*(np.log(exposure)+np.log(temp))-temp) + 0.5*np.sum(((1-nuiList)/Uncs)**2)\n",
    "    \n",
    "class MCCheck(object):\n",
    "    \n",
    "    def __init__(self, mDM, E_th, E_max, ne):\n",
    "        self._mDM, self._E_th, self._E_max, self._ne= mDM, E_th,E_max,ne\n",
    "        nunames, self._NuUnc, self._R_nu = BinnedNeutrinoRates2(E_th,E_max,ne,Nuc,Flux_norm)\n",
    "        self._RWIMP = BinnedWIMPRate2(E_th,E_max,ne,np.array([mDM]),Nuc,C_SI,\\\n",
    "                                      FormFactorHelm,MeanInverseSpeed_SHM)[1][0]\n",
    "        #print('Neutrino sources: ', np.array(nunames))\n",
    "        return None\n",
    "    \n",
    "    def _datGenH0(self, RNu, Uncs, exposure):\n",
    "        for i in range(100):\n",
    "            nuiList = np.array(list(map(lambda d: np.random.normal(loc=1.,scale=d), Uncs)))\n",
    "            if np.all(nuiList>np.zeros(len(nuiList))):\n",
    "                break\n",
    "        dat = nuiList[:-1]@RNu*RNuFactorGen(nuiList[-1])\n",
    "        return np.array(list(map(lambda d: np.random.poisson(lam=d), dat*exposure)))/exposure\n",
    "    \n",
    "    def _datGenH1(self, RNu, RWIMP, Uncs, exposure):\n",
    "        for i in range(100):\n",
    "            nuiList = np.array(list(map(lambda d: np.random.normal(loc=1.,scale=d), Uncs)))\n",
    "            if np.all(nuiList>np.zeros(len(nuiList))):\n",
    "                break\n",
    "        dat = nuiList[:-1]@RNu*RNuFactorGen(nuiList[-1]) + RWIMP\n",
    "        return np.array(list(map(lambda d: np.random.poisson(lam=d), dat*exposure)))/exposure\n",
    "    \n",
    "    def _statisticGen(self, datObs, RNu, RWIMP, Uncs, exposure):\n",
    "        n = np.shape(Uncs)[0]\n",
    "        H0Gen = lambda x: H0Func(datObs, RNu, x, Uncs, exposure)\n",
    "        H1Gen = lambda x: H1Func(datObs, RNu, RWIMP, x[0], x[1:], Uncs, exposure)\n",
    "\n",
    "        boundsH0 = np.transpose([np.zeros(n)+1.0e-5, np.ones(n)*3.])\n",
    "        boundsH1 = np.transpose([np.zeros(n+1)+1.0e-5, \\\n",
    "                                 np.append(np.array([1.0e2]),np.ones(n)*3.)])\n",
    "        likeDeno = differential_evolution(H1Gen, boundsH1, tol=0, atol=0.01)\n",
    "        likeNume = differential_evolution(H0Gen, boundsH0, tol=0, atol=0.01)\n",
    "        #print(likeDeno,\" \",likeNume,\" \",[datDM])\n",
    "        return [2*(likeNume.fun-likeDeno.fun), likeNume.x, likeDeno.x, datObs] \n",
    "    \n",
    "    def H0StatGen(self, sigma0, exposure, sigmaWA, selList, n):\n",
    "        RNu = self._R_nu[selList]\n",
    "        NuUncs = self._NuUnc[selList]\n",
    "        Uncs = np.append(NuUncs, [sigmaWA])\n",
    "        iEnd = np.max([len(x[x>1.0e-10]) for x in RNu])\n",
    "        RNu = RNu[:,:iEnd]\n",
    "        RWIMP = self._RWIMP[:iEnd]*10**(sigma0+45.)\n",
    "        #datDM = self._sigGen(1.)[:iEnd]*10**(sigma0+45.)\n",
    "        \n",
    "        datObsList = np.array(list(map(lambda i: \\\n",
    "                self._datGenH0(RNu, Uncs, exposure), range(n))))\n",
    "        RNu = np.transpose(np.ascontiguousarray(np.transpose(RNu)))\n",
    "        time_start = time.perf_counter()\n",
    "        pool = multiprocessing.Pool(4)\n",
    "        multiple_results = [pool.apply_async(\\\n",
    "                self._statisticGen, (datObsList[i], RNu, RWIMP, Uncs, exposure))\\\n",
    "                                             for i in range(n)]\n",
    "        pool.close()\n",
    "        pool.join()\n",
    "        H0Stat= [res.get() for res in multiple_results]\n",
    "        #H1Stat = [self._statisticGen(datObsList[i], RNu, sigma0, Uncs, exposure) for i in range(n)]\n",
    "        time_end = time.perf_counter()\n",
    "        print(\"Time costed: {0} s.\".format(time_end-time_start))\n",
    "        return H0Stat\n",
    "    \n",
    "    def H1StatGen(self, sigma0, exposure, sigmaWA, selList, n):\n",
    "        RNu = self._R_nu[selList]\n",
    "        NuUncs = self._NuUnc[selList]\n",
    "        Uncs = np.append(NuUncs, [sigmaWA])\n",
    "        iEnd = np.max([len(x[x>1.0e-10]) for x in RNu])\n",
    "        RNu = RNu[:,:iEnd]\n",
    "        RWIMP = self._RWIMP[:iEnd]*10**(sigma0+45.)\n",
    "        #datDM = self._sigGen(1.)[:iEnd]*10**(sigma0+45.)\n",
    "        \n",
    "        datObsList = np.array(list(map(lambda i: \\\n",
    "                self._datGenH1(RNu, RWIMP, Uncs, exposure), range(n))))\n",
    "        \n",
    "        RNu = np.transpose(np.ascontiguousarray(np.transpose(RNu)))\n",
    "        time_start = time.perf_counter()\n",
    "        pool = multiprocessing.Pool(4)\n",
    "        multiple_results = [pool.apply_async(\\\n",
    "                self._statisticGen, (datObsList[i], RNu, RWIMP, Uncs, exposure))\\\n",
    "                                             for i in range(n)]\n",
    "        pool.close()\n",
    "        pool.join()\n",
    "        H1Stat= [res.get() for res in multiple_results]\n",
    "        #H1Stat = [self._statisticGen(datObsList[i], RNu, sigma0, Uncs, exposure) for i in range(n)]\n",
    "        time_end = time.perf_counter()\n",
    "        print(\"Time costed: {0} s.\".format(time_end-time_start))\n",
    "        return H1Stat\n",
    "    \n",
    "@jit(nopython=True)\n",
    "def RNuFactorGen(theta2):\n",
    "    N, Z = 77, 54\n",
    "    sinTheta_Wsq = 0.2387\n",
    "    Q_W = 1.0*N-(1-4.0*sinTheta_Wsq)*Z # weak nuclear hypercharge\n",
    "    return ((1.0*N-(1-4.0*sinTheta_Wsq*theta2)*Z)/Q_W)**2"
   ]
  },
  {
   "cell_type": "code",
   "execution_count": 3,
   "id": "619edcc7-ba96-419a-add4-f106011040f7",
   "metadata": {},
   "outputs": [],
   "source": [
    "Eth = E_th\n",
    "sigmaWA = 0.1"
   ]
  },
  {
   "cell_type": "code",
   "execution_count": 4,
   "id": "57b54568-2599-4e51-b853-4ca76e7cfe43",
   "metadata": {},
   "outputs": [
    {
     "data": {
      "text/plain": [
       "[[array([1.31874982e+00, 5.99700930e-13]),\n",
       "  array([[ 3.53603265e-01,  2.12299532e-01, -3.43226877e-01,\n",
       "          -5.43806932e-03,  6.40245764e-02, -6.05162601e-01,\n",
       "          -5.76966308e-01,  8.31943453e-02, -3.78637005e-02,\n",
       "          -6.60136054e-04, -8.61627602e-04, -8.70591267e-03,\n",
       "           1.31249735e-02,  1.28506128e-02, -8.83782268e-03,\n",
       "          -9.46886162e-04],\n",
       "         [ 2.00830626e-01, -3.97935539e-01, -1.33460527e-01,\n",
       "           4.52030592e-01,  3.83153654e-02,  5.54505888e-01,\n",
       "          -5.16873243e-01,  5.23743091e-02, -8.04775912e-03,\n",
       "           6.99879612e-04, -1.61416108e-03, -8.35005856e-03,\n",
       "           9.73088456e-03,  7.97638900e-03, -5.37482108e-03,\n",
       "           5.88593171e-04]]),\n",
       "  array([8.61099077, 0.6987791 ]),\n",
       "  array([ 1.31874982e+00,  5.99700930e-13,  1.09090090e-13,  1.22988378e-14,\n",
       "          2.83745933e-15,  1.87944709e-16,  3.64153748e-17,  7.97197384e-18,\n",
       "          1.13793852e-18,  3.61418518e-19, -1.52095248e-17, -1.63837198e-16,\n",
       "         -4.73650406e-16, -2.75243851e-14, -2.25453426e-13, -5.93414683e-11])],\n",
       " array([ 4,  5,  1,  0,  6,  3,  7, 11, 12, 13, 10,  2,  9,  8])]"
      ]
     },
     "execution_count": 4,
     "metadata": {},
     "output_type": "execute_result"
    }
   ],
   "source": [
    "# np.argsort(np.abs(tempPara[1][0][2:]))[::-1] shows the order of impacts from different neutrino sources\n",
    "mDM = 0.2\n",
    "sigma0 = -44.3\n",
    "exposure = 1.0e1\n",
    "WMA2 = WMA(Eth, E_max, ne)\n",
    "WMA2.setDMMass(mDM)\n",
    "WMA2.tempMatSet(sigma0, sigmaWA)\n",
    "tempPara=WMA2.distributionPara(exposure,)\n",
    "[tempPara,np.argsort(np.abs(tempPara[1][0][1:-1]))[::-1]]"
   ]
  },
  {
   "cell_type": "code",
   "execution_count": 5,
   "id": "50e75284-5cec-4f5e-8312-d78e9102a833",
   "metadata": {},
   "outputs": [
    {
     "data": {
      "text/plain": [
       "[array([1.31879208e+00, 1.18331835e-10]),\n",
       " array([[ 0.39864573,  0.18954304, -0.34269468, -0.5971492 , -0.5754243 ,\n",
       "          0.00388179],\n",
       "        [ 0.15598583,  0.87093292,  0.01016122,  0.45507414, -0.08298607,\n",
       "          0.05533406]]),\n",
       " array([8.79583026, 1.11486181]),\n",
       " array([ 1.31879208e+00,  1.18331835e-10,  2.44109156e-14, -1.70309895e-14,\n",
       "        -4.29372114e-13, -1.48929299e-12])]"
      ]
     },
     "execution_count": 5,
     "metadata": {},
     "output_type": "execute_result"
    }
   ],
   "source": [
    "selList2 = np.array([0,1,4,5,7])\n",
    "MC2 = MCCheck(mDM, Eth, E_max, ne)\n",
    "WMA2 = WMA(Eth, E_max, ne, selList2)\n",
    "WMA2.setDMMass(mDM)\n",
    "WMA2.tempMatSet(sigma0, sigmaWA)\n",
    "tempPara=WMA2.distributionPara(exposure)\n",
    "tempPara"
   ]
  },
  {
   "cell_type": "code",
   "execution_count": 6,
   "id": "20f13d6b-9c4c-493b-a023-83884480cd09",
   "metadata": {},
   "outputs": [
    {
     "data": {
      "text/plain": [
       "[[array([2.9160317e+00, 1.9055473e-11]),\n",
       "  array([[ 4.86524403e-01, -7.91486044e-01, -1.53085862e-02,\n",
       "          -2.53195834e-04,  3.43069125e-02, -2.88090447e-01,\n",
       "          -1.23606733e-01,  1.90931142e-01,  1.72051466e-02,\n",
       "           3.17360101e-04, -8.56793728e-05, -8.52861206e-04,\n",
       "          -1.14272808e-02, -6.91766232e-03,  1.33409668e-02,\n",
       "          -7.05438584e-03],\n",
       "         [ 6.41925121e-01,  2.27875145e-01,  1.33558805e-01,\n",
       "          -7.11189419e-03,  4.67625753e-02,  6.62952333e-01,\n",
       "          -6.75298660e-02,  2.59717579e-01,  6.14981733e-02,\n",
       "           2.83879371e-03, -6.48588909e-04, -2.17519878e-03,\n",
       "          -9.98963333e-03, -6.54119725e-03,  2.09157831e-02,\n",
       "          -5.93293452e-03]]),\n",
       "  array([4.68012611, 9.04859878]),\n",
       "  array([ 2.91603170e+00,  1.90554730e-11,  8.30818866e-14,  4.78140172e-14,\n",
       "          1.41026522e-14,  2.02395783e-15,  3.16624199e-16,  6.85162968e-17,\n",
       "          6.08619743e-18, -5.72558786e-18, -1.03067686e-17, -3.38693831e-17,\n",
       "         -3.05645465e-16, -2.16796296e-15, -7.10929709e-15, -2.27975490e-12])],\n",
       " array([ 0,  4,  6,  5,  3,  7,  1, 13, 11, 12, 10,  8,  2,  9])]"
      ]
     },
     "execution_count": 6,
     "metadata": {},
     "output_type": "execute_result"
    }
   ],
   "source": [
    "mDM = 0.51\n",
    "sigma0 = -44.1\n",
    "exposure = 1.0e1\n",
    "sigmaWA = 0.1\n",
    "WMA51 = WMA(Eth, E_max, ne)\n",
    "WMA51.setDMMass(mDM)\n",
    "WMA51.tempMatSet(sigma0, sigmaWA)\n",
    "tempPara=WMA51.distributionPara(exposure,)\n",
    "[tempPara,np.argsort(np.abs(tempPara[1][0][1:-1]))[::-1]]"
   ]
  },
  {
   "cell_type": "code",
   "execution_count": 7,
   "id": "88c8c474-e340-4242-9c1f-d95613dbebfe",
   "metadata": {},
   "outputs": [
    {
     "data": {
      "text/plain": [
       "[array([2.7907795e+00, 2.7643254e-11]),\n",
       " array([[ 0.54832302, -0.79849187, -0.24850072],\n",
       "        [ 0.67836768,  0.25092759,  0.69054517]]),\n",
       " array([4.85967188, 8.83762136]),\n",
       " array([2.7907795e+00, 2.7643254e-11, 2.2855513e-12])]"
      ]
     },
     "execution_count": 7,
     "metadata": {},
     "output_type": "execute_result"
    }
   ],
   "source": [
    "selList51 = np.array([0,4])\n",
    "MC51 = MCCheck(mDM, Eth, E_max, ne)\n",
    "WMA51 = WMA(Eth, E_max, ne, selList51)\n",
    "WMA51.setDMMass(mDM)\n",
    "WMA51.tempMatSet(sigma0, sigmaWA)\n",
    "tempPara=WMA51.distributionPara(exposure)\n",
    "tempPara"
   ]
  },
  {
   "cell_type": "code",
   "execution_count": 8,
   "id": "663b514a-1e35-4fd6-81f0-fc604e9d074b",
   "metadata": {},
   "outputs": [
    {
     "data": {
      "text/plain": [
       "[[array([9.98882119e-01, 4.81773177e-12]),\n",
       "  array([[ 1.41582189e-01, -2.87502360e-02, -5.60655976e-02,\n",
       "          -1.61193269e-02, -1.23028652e-03, -6.62905560e-03,\n",
       "           9.86256729e-01,  1.10710896e-02, -1.56794757e-02,\n",
       "          -4.59398562e-04,  4.13647451e-04, -1.44078297e-03,\n",
       "          -2.95995436e-02, -9.30774334e-03,  1.25025719e-03,\n",
       "          -4.05182203e-02],\n",
       "         [-1.48770311e-02,  9.95105991e-01,  1.90092806e-03,\n",
       "           9.04840288e-02,  6.07173377e-03,  1.30525383e-02,\n",
       "           3.28292143e-02,  1.09638193e-03, -3.27316751e-03,\n",
       "          -7.22471845e-05,  2.83262762e-03,  6.51896157e-03,\n",
       "           1.95364160e-03,  6.89319590e-04, -1.37272154e-04,\n",
       "          -1.50004237e-04]]),\n",
       "  array([8.91478925, 0.00948731]),\n",
       "  array([ 9.98882119e-01,  4.81773177e-12,  5.13135371e-14,  1.44692849e-14,\n",
       "          7.40301557e-16,  2.18836879e-16,  8.86014875e-17,  3.57381770e-17,\n",
       "          2.59091881e-18, -4.77044084e-20, -1.33904761e-18, -7.61563613e-18,\n",
       "         -7.02423771e-17, -8.16368591e-15, -7.97018174e-14, -4.21063857e-13])],\n",
       " array([ 5,  1, 11,  0,  2,  7,  6, 12,  4, 10, 13,  3,  8,  9])]"
      ]
     },
     "execution_count": 8,
     "metadata": {},
     "output_type": "execute_result"
    }
   ],
   "source": [
    "mDM = 5.5\n",
    "sigma0 = -45.5\n",
    "exposure = 1.0e1\n",
    "WMA55 = WMA(Eth, E_max, ne)\n",
    "WMA55.setDMMass(mDM)\n",
    "WMA55.tempMatSet(sigma0, sigmaWA)\n",
    "tempPara=WMA55.distributionPara(exposure,)\n",
    "[tempPara,np.argsort(np.abs(tempPara[1][0][1:-1]))[::-1]]"
   ]
  },
  {
   "cell_type": "code",
   "execution_count": 9,
   "id": "6ef7b71f-7c8a-4f7f-831d-f0ef5eb52a87",
   "metadata": {},
   "outputs": [
    {
     "data": {
      "text/plain": [
       "[array([9.96411999e-01, 9.41922649e-13]),\n",
       " array([[ 0.16075848,  0.82381273, -0.54358928],\n",
       "        [ 0.04014574,  0.54483896,  0.83757914]]),\n",
       " array([7.22768816, 0.08746973]),\n",
       " array([9.96411999e-01, 9.41922649e-13, 4.40779454e-16])]"
      ]
     },
     "execution_count": 9,
     "metadata": {},
     "output_type": "execute_result"
    }
   ],
   "source": [
    "selList55 = np.array([5,1])\n",
    "MC55 = MCCheck(mDM, Eth, E_max, ne)\n",
    "WMA55 = WMA(Eth, E_max, ne, selList55)\n",
    "WMA55.setDMMass(mDM)\n",
    "WMA55.tempMatSet(sigma0, sigmaWA)\n",
    "tempPara=WMA55.distributionPara(exposure)\n",
    "tempPara"
   ]
  },
  {
   "cell_type": "code",
   "execution_count": 10,
   "id": "9e0869f2-1904-47e1-8a3e-c9add751e4e7",
   "metadata": {},
   "outputs": [],
   "source": [
    "labelList = [2,51,55]\n",
    "selList = [eval('selList'+str(i)) for i in labelList]\n",
    "MCList = [eval('MC'+str(i)) for i in labelList]\n",
    "WMAList = [eval('WMA'+str(i)) for i in labelList]\n",
    "sigma0List = [-44.3,-44.1,-45.5]\n",
    "exposureList = [10.,10.,10.]"
   ]
  },
  {
   "cell_type": "code",
   "execution_count": 11,
   "id": "d12693e5-ab1c-4ede-b8e4-5a31a21de746",
   "metadata": {},
   "outputs": [
    {
     "data": {
      "text/plain": [
       "array([[ 1.31879208, 10.39530751],\n",
       "       [ 2.7907795 , 14.51607273],\n",
       "       [ 0.996412  ,  7.08878992]])"
      ]
     },
     "execution_count": 11,
     "metadata": {},
     "output_type": "execute_result"
    }
   ],
   "source": [
    "distributionParaList = np.array([[WMAList[i].distributionPara(exposureList[i])[0][0],\\\n",
    "                         WMAList[i].phiAsiGen(sigmaWA,\\\n",
    "            sigma0List[i],exposureList[i])] for i in range(len(WMAList))])\n",
    "distributionParaList"
   ]
  },
  {
   "cell_type": "code",
   "execution_count": 12,
   "id": "4497f95e-0614-4f2d-b79b-fc710de6d9dc",
   "metadata": {},
   "outputs": [
    {
     "name": "stdout",
     "output_type": "stream",
     "text": [
      "Time costed: 4772.818101165816 s.\n",
      "Time costed: 1201.3399433400482 s.\n",
      "Time costed: 988.0160823613405 s.\n"
     ]
    }
   ],
   "source": [
    "H1DatList = [MCList[i].H1StatGen(sigma0List[i], exposureList[i], sigmaWA,\\\n",
    "                        selList[i], 10000) for i in range(len(MCList))]"
   ]
  },
  {
   "cell_type": "code",
   "execution_count": 13,
   "id": "64d2ec1c-9b5c-4bae-a826-fd7345a7661d",
   "metadata": {},
   "outputs": [],
   "source": [
    "mypath = os.path.join(os.path.abspath(os.path.pardir),'data', 'MC')\n",
    "myData = H1DatList\n",
    "myFile = open(os.path.join(mypath,'MCWMAH1.pickle'), 'wb')\n",
    "pickle.dump(myData, myFile)\n",
    "myFile.close()"
   ]
  },
  {
   "cell_type": "code",
   "execution_count": null,
   "id": "12075665-6673-44a1-a2cc-3a7ef8cb3507",
   "metadata": {},
   "outputs": [],
   "source": []
  },
  {
   "cell_type": "code",
   "execution_count": 14,
   "id": "22889631-5e0d-46cb-95e0-6097da160db7",
   "metadata": {},
   "outputs": [
    {
     "name": "stdout",
     "output_type": "stream",
     "text": [
      "Time costed: 106.89918366307393 s.\n"
     ]
    }
   ],
   "source": [
    "i=2\n",
    "H0Dat = MCList[i].H0StatGen(sigma0List[i], exposureList[i], sigmaWA,\\\n",
    "                        selList[i], 1000)"
   ]
  },
  {
   "cell_type": "code",
   "execution_count": 15,
   "id": "eb470cbd-c43b-4eb7-8821-0652b56cd4e0",
   "metadata": {},
   "outputs": [
    {
     "data": {
      "image/png": "[encoded data removed]",
      "text/plain": [
       "<Figure size 432x288 with 1 Axes>"
      ]
     },
     "metadata": {
      "needs_background": "light"
     },
     "output_type": "display_data"
    }
   ],
   "source": [
    "from scipy.stats import ncx2\n",
    "import matplotlib.pyplot as plt\n",
    "\n",
    "def H0StatPlot(H0Stat, xmax):\n",
    "    dmax=500.\n",
    "    H0Stat = np.array(list(map(lambda x: 1.0e-6 if x<0. else x, H0Stat)))\n",
    "    H0StatX = np.linspace(0.,dmax,1000)\n",
    "    DatX = np.array(list(map(lambda x: [x,x], H0StatX[1:-1]))).flatten()\n",
    "    DatX = np.append([H0StatX[0]], np.append(DatX, [H0StatX[-1]]))\n",
    "    H0StatY = np.histogram(H0Stat, bins=H0StatX)[0]\n",
    "    H0StatY = 1/(np.sum(H0StatY)*(H0StatX[1]-H0StatX[0]))*H0StatY\n",
    "    DatY = np.array(list(map(lambda x: [x,x], H0StatY))).flatten()\n",
    "    \n",
    "    fig, ax = plt.subplots()\n",
    "    x = np.linspace(1.0e-6,xmax,1000)\n",
    "    y = 0.5*ncx2.pdf(x,df=1,nc=0)\n",
    "    ax.plot(x, y, color='black', linestyle='-', label='Distribution')\n",
    "    ax.plot(DatX, DatY, color='Red', linestyle='-.', label='Data')\n",
    "    ax.legend()\n",
    "    ax.set(xlim=(-0.5,xmax), ylim=(1e-4,1e1))\n",
    "    plt.yscale('log')\n",
    "    plt.show()\n",
    "    \n",
    "H0StatPlot(np.array([d[0] for d in H0Dat]), 10.)"
   ]
  },
  {
   "cell_type": "code",
   "execution_count": null,
   "id": "7a40c264-87c3-43a4-8b1b-9eadb34a571e",
   "metadata": {},
   "outputs": [],
   "source": []
  },
  {
   "cell_type": "code",
   "execution_count": 16,
   "id": "1bc9f837-e689-4178-b515-50f35de4e02d",
   "metadata": {},
   "outputs": [
    {
     "data": {
      "text/plain": [
       "array([[1.31879208, 8.79583026],\n",
       "       [2.7907795 , 4.85967188],\n",
       "       [0.996412  , 7.22768816]])"
      ]
     },
     "execution_count": 16,
     "metadata": {},
     "output_type": "execute_result"
    }
   ],
   "source": [
    "np.array([[WMAList[i].distributionPara(exposureList[i])[0][0],\\\n",
    "                         WMAList[i].distributionPara(exposureList[i])[2][0]] for i in range(len(WMAList))])"
   ]
  },
  {
   "cell_type": "code",
   "execution_count": null,
   "id": "a51d25e8-71a0-4945-8b0c-5e6b51cc6b86",
   "metadata": {},
   "outputs": [],
   "source": []
  }
 ],
 "metadata": {
  "kernelspec": {
   "display_name": "Python 3 (ipykernel)",
   "language": "python",
   "name": "python3"
  },
  "language_info": {
   "codemirror_mode": {
    "name": "ipython",
    "version": 3
   },
   "file_extension": ".py",
   "mimetype": "text/x-python",
   "name": "python",
   "nbconvert_exporter": "python",
   "pygments_lexer": "ipython3",
   "version": "3.9.7"
  }
 },
 "nbformat": 4,
 "nbformat_minor": 5
}
